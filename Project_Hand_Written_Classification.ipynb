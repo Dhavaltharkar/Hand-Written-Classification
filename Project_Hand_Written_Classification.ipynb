{
  "nbformat": 4,
  "nbformat_minor": 0,
  "metadata": {
    "colab": {
      "provenance": []
    },
    "kernelspec": {
      "name": "python3",
      "display_name": "Python 3"
    },
    "language_info": {
      "name": "python"
    }
  },
  "cells": [
    {
      "cell_type": "code",
      "source": [
        "from google.colab import drive\n",
        "drive.mount('/content/gdrive')"
      ],
      "metadata": {
        "colab": {
          "base_uri": "https://localhost:8080/"
        },
        "id": "ZEUR3hwfeCTF",
        "outputId": "e1a2833f-ea95-499f-89f6-9a8c58e9ac78"
      },
      "execution_count": 63,
      "outputs": [
        {
          "output_type": "stream",
          "name": "stdout",
          "text": [
            "Drive already mounted at /content/gdrive; to attempt to forcibly remount, call drive.mount(\"/content/gdrive\", force_remount=True).\n"
          ]
        }
      ]
    },
    {
      "cell_type": "markdown",
      "source": [
        "Unzip the dataset"
      ],
      "metadata": {
        "id": "w9-XWP5ze2HR"
      }
    },
    {
      "cell_type": "code",
      "source": [
        "#!unzip '/content/gdrive/MyDrive/Colab Notebooks/Hand_Written_Classification.zip'"
      ],
      "metadata": {
        "id": "ZHrurSwjFkKb"
      },
      "execution_count": 64,
      "outputs": []
    },
    {
      "cell_type": "markdown",
      "source": [
        "Import the necessary libraries"
      ],
      "metadata": {
        "id": "Zc71KQbserY0"
      }
    },
    {
      "cell_type": "code",
      "source": [
        "import numpy as np\n",
        "import matplotlib.pyplot as plt\n",
        "import tensorflow as tf\n",
        "import keras\n",
        "from keras.models import Sequential\n",
        "from keras.layers import Dense\n",
        "from keras.layers import LSTM\n",
        "from keras.layers import Dropout\n",
        "import numpy as np"
      ],
      "metadata": {
        "id": "EyEEZ_1_egpP"
      },
      "execution_count": 65,
      "outputs": []
    },
    {
      "cell_type": "markdown",
      "source": [
        "Loading Dataset Directory to acess the dataset"
      ],
      "metadata": {
        "id": "D_XvUFqsidAV"
      }
    },
    {
      "cell_type": "code",
      "source": [
        "base_dir = r\"/content/Hand_Written_Classification\""
      ],
      "metadata": {
        "id": "IFQ2I-mSiQza"
      },
      "execution_count": 66,
      "outputs": []
    },
    {
      "cell_type": "markdown",
      "source": [],
      "metadata": {
        "id": "NZRAH6oaiySQ"
      }
    },
    {
      "cell_type": "markdown",
      "source": [
        "# Spliting the Dataset into train dataset and test dataset\n",
        "\n",
        "We have total 10 alphabet of marrathi language each character has 200 images as dataset.\n",
        "\n",
        "Overall we have 2000 images as dataset we have split it into train dataset and test dataset.\n",
        "\n",
        "Train dataset contains 80 percentage of the dataset.\n",
        "\n",
        "Test data contains the 20 percentage of the dataset\n",
        "\n",
        "\n",
        "## Data preparation - cleansing and preparing data for the next steps of model development"
      ],
      "metadata": {
        "id": "wfL3EnJfiyT6"
      }
    },
    {
      "cell_type": "code",
      "source": [
        "IMAGE_SIZE=224\n",
        "BATCH_SIZE=64\n",
        "\n",
        "#Loading Custom image dataset and Preprocess it\n",
        "train=tf.keras.preprocessing.image.ImageDataGenerator(\n",
        "    rescale=1./255,\n",
        "    shear_range=0.2,\n",
        "    zoom_range=0.2,\n",
        "    horizontal_flip=True,\n",
        "    validation_split=0.2\n",
        "    )\n",
        "\n",
        "test=tf.keras.preprocessing.image.ImageDataGenerator(\n",
        "     rescale=1./255,\n",
        "     validation_split=0.2\n",
        ")\n",
        "\n",
        "train=train.flow_from_directory(\n",
        "    base_dir,\n",
        "    target_size=(IMAGE_SIZE,IMAGE_SIZE),\n",
        "    batch_size=BATCH_SIZE,\n",
        "    subset='training'\n",
        ")\n",
        "\n",
        "test=test.flow_from_directory(\n",
        "    base_dir,\n",
        "    target_size=(IMAGE_SIZE,IMAGE_SIZE),\n",
        "    batch_size=BATCH_SIZE,\n",
        "    subset='validation'\n",
        ")"
      ],
      "metadata": {
        "colab": {
          "base_uri": "https://localhost:8080/"
        },
        "id": "t2Iq4EnEirkM",
        "outputId": "c2c634a8-8d62-4e1f-8bb8-b33df9bd5fcb"
      },
      "execution_count": 67,
      "outputs": [
        {
          "output_type": "stream",
          "name": "stdout",
          "text": [
            "Found 7872 images belonging to 48 classes.\n",
            "Found 1968 images belonging to 48 classes.\n"
          ]
        }
      ]
    },
    {
      "cell_type": "markdown",
      "source": [
        "### Training and testing the dataset into X_train,X_test, y_train and y_test"
      ],
      "metadata": {
        "id": "zAQSPzFvjFrY"
      }
    },
    {
      "cell_type": "code",
      "source": [
        "from sklearn.model_selection import train_test_split\n",
        "X_train,X_test,y_train,y_test=train_test_split(test,test,test_size=0.2)"
      ],
      "metadata": {
        "id": "juqjMm1Hi8mJ"
      },
      "execution_count": 68,
      "outputs": []
    },
    {
      "cell_type": "markdown",
      "source": [
        "### Building Convolutional Neural Networks"
      ],
      "metadata": {
        "id": "vKBX_yBqjIun"
      }
    },
    {
      "cell_type": "code",
      "source": [
        "cnn=tf.keras.Sequential()\n",
        "cnn.add(tf.keras.layers.Conv2D(filters=64,padding='same',strides=2,kernel_size=3,activation='relu',input_shape=(224,224,3)))\n",
        "cnn.add(tf.keras.layers.MaxPool2D(pool_size=2,strides=2))\n",
        "\n",
        "cnn.add(tf.keras.layers.Conv2D(filters=32,padding='same',strides=2,kernel_size=3,activation='relu'))\n",
        "cnn.add(tf.keras.layers.MaxPool2D(pool_size=2,strides=2))\n",
        "\n",
        "cnn.add(tf.keras.layers.Conv2D(filters=32,padding='same',strides=2,kernel_size=3,activation='relu'))\n",
        "cnn.add(tf.keras.layers.MaxPool2D(pool_size=2))\n",
        "\n",
        "cnn.add(tf.keras.layers.Flatten())\n",
        "cnn.add(tf.keras.layers.Dense(48,activation='softmax')) #Activation function sigmoid is used to get accuracy"
      ],
      "metadata": {
        "id": "JoaBjkkIjGwO"
      },
      "execution_count": 69,
      "outputs": []
    },
    {
      "cell_type": "code",
      "source": [
        "cnn.compile(optimizer=tf.keras.optimizers.Adam(),loss='categorical_crossentropy',metrics=['accuracy'])"
      ],
      "metadata": {
        "id": "JeKZ2hXxjQdf"
      },
      "execution_count": 70,
      "outputs": []
    },
    {
      "cell_type": "code",
      "source": [
        "r=cnn.fit(train,epochs=50,validation_data=test)"
      ],
      "metadata": {
        "colab": {
          "base_uri": "https://localhost:8080/"
        },
        "id": "gmW0mcQ_jUFE",
        "outputId": "ec1f2eb1-f3b6-45e6-c0b3-f10c5cd9044a"
      },
      "execution_count": 83,
      "outputs": [
        {
          "output_type": "stream",
          "name": "stdout",
          "text": [
            "Epoch 1/50\n",
            "123/123 [==============================] - 271s 2s/step - loss: 3.2695 - accuracy: 0.1485 - val_loss: 2.7789 - val_accuracy: 0.2520\n",
            "Epoch 2/50\n",
            "123/123 [==============================] - 257s 2s/step - loss: 2.3557 - accuracy: 0.3413 - val_loss: 2.3142 - val_accuracy: 0.3577\n",
            "Epoch 3/50\n",
            "123/123 [==============================] - 262s 2s/step - loss: 1.9502 - accuracy: 0.4365 - val_loss: 2.0432 - val_accuracy: 0.4228\n",
            "Epoch 4/50\n",
            "123/123 [==============================] - 268s 2s/step - loss: 1.7251 - accuracy: 0.5067 - val_loss: 1.9566 - val_accuracy: 0.4339\n",
            "Epoch 5/50\n",
            "123/123 [==============================] - 262s 2s/step - loss: 1.5908 - accuracy: 0.5373 - val_loss: 1.8065 - val_accuracy: 0.4898\n",
            "Epoch 6/50\n",
            "123/123 [==============================] - 264s 2s/step - loss: 1.4463 - accuracy: 0.5788 - val_loss: 1.6905 - val_accuracy: 0.5132\n",
            "Epoch 7/50\n",
            "123/123 [==============================] - 261s 2s/step - loss: 1.3712 - accuracy: 0.5971 - val_loss: 1.6307 - val_accuracy: 0.5330\n",
            "Epoch 8/50\n",
            "123/123 [==============================] - 269s 2s/step - loss: 1.2897 - accuracy: 0.6280 - val_loss: 1.5785 - val_accuracy: 0.5579\n",
            "Epoch 9/50\n",
            "123/123 [==============================] - 259s 2s/step - loss: 1.2312 - accuracy: 0.6372 - val_loss: 1.4837 - val_accuracy: 0.5843\n",
            "Epoch 10/50\n",
            "123/123 [==============================] - 264s 2s/step - loss: 1.1704 - accuracy: 0.6560 - val_loss: 1.4389 - val_accuracy: 0.5838\n",
            "Epoch 11/50\n",
            "123/123 [==============================] - 264s 2s/step - loss: 1.1204 - accuracy: 0.6711 - val_loss: 1.4255 - val_accuracy: 0.5920\n",
            "Epoch 12/50\n",
            "123/123 [==============================] - 254s 2s/step - loss: 1.0774 - accuracy: 0.6828 - val_loss: 1.3643 - val_accuracy: 0.5981\n",
            "Epoch 13/50\n",
            "123/123 [==============================] - 270s 2s/step - loss: 1.0315 - accuracy: 0.6927 - val_loss: 1.4325 - val_accuracy: 0.5940\n",
            "Epoch 14/50\n",
            "123/123 [==============================] - 264s 2s/step - loss: 1.0148 - accuracy: 0.7015 - val_loss: 1.3698 - val_accuracy: 0.6082\n",
            "Epoch 15/50\n",
            "123/123 [==============================] - 272s 2s/step - loss: 0.9840 - accuracy: 0.7118 - val_loss: 1.2771 - val_accuracy: 0.6413\n",
            "Epoch 16/50\n",
            "123/123 [==============================] - 263s 2s/step - loss: 0.9639 - accuracy: 0.7113 - val_loss: 1.2936 - val_accuracy: 0.6321\n",
            "Epoch 17/50\n",
            "123/123 [==============================] - 273s 2s/step - loss: 0.9336 - accuracy: 0.7247 - val_loss: 1.2573 - val_accuracy: 0.6387\n",
            "Epoch 18/50\n",
            "123/123 [==============================] - 263s 2s/step - loss: 0.9162 - accuracy: 0.7292 - val_loss: 1.2227 - val_accuracy: 0.6479\n",
            "Epoch 19/50\n",
            "123/123 [==============================] - 263s 2s/step - loss: 0.8747 - accuracy: 0.7424 - val_loss: 1.3028 - val_accuracy: 0.6265\n",
            "Epoch 20/50\n",
            "123/123 [==============================] - 256s 2s/step - loss: 0.8585 - accuracy: 0.7489 - val_loss: 1.2288 - val_accuracy: 0.6570\n",
            "Epoch 21/50\n",
            "123/123 [==============================] - 273s 2s/step - loss: 0.8609 - accuracy: 0.7472 - val_loss: 1.2186 - val_accuracy: 0.6550\n",
            "Epoch 22/50\n",
            "123/123 [==============================] - 263s 2s/step - loss: 0.8513 - accuracy: 0.7443 - val_loss: 1.1817 - val_accuracy: 0.6585\n",
            "Epoch 23/50\n",
            "123/123 [==============================] - 262s 2s/step - loss: 0.8304 - accuracy: 0.7553 - val_loss: 1.1803 - val_accuracy: 0.6626\n",
            "Epoch 24/50\n",
            "123/123 [==============================] - 260s 2s/step - loss: 0.8025 - accuracy: 0.7571 - val_loss: 1.1556 - val_accuracy: 0.6717\n",
            "Epoch 25/50\n",
            "123/123 [==============================] - 254s 2s/step - loss: 0.7869 - accuracy: 0.7691 - val_loss: 1.1368 - val_accuracy: 0.6768\n",
            "Epoch 26/50\n",
            "123/123 [==============================] - 258s 2s/step - loss: 0.7756 - accuracy: 0.7692 - val_loss: 1.1822 - val_accuracy: 0.6707\n",
            "Epoch 27/50\n",
            "123/123 [==============================] - 255s 2s/step - loss: 0.7673 - accuracy: 0.7740 - val_loss: 1.1826 - val_accuracy: 0.6575\n",
            "Epoch 28/50\n",
            "123/123 [==============================] - 265s 2s/step - loss: 0.7508 - accuracy: 0.7767 - val_loss: 1.1752 - val_accuracy: 0.6712\n",
            "Epoch 29/50\n",
            "123/123 [==============================] - 263s 2s/step - loss: 0.7422 - accuracy: 0.7765 - val_loss: 1.1406 - val_accuracy: 0.6768\n",
            "Epoch 30/50\n",
            "123/123 [==============================] - 264s 2s/step - loss: 0.7310 - accuracy: 0.7829 - val_loss: 1.1257 - val_accuracy: 0.6860\n",
            "Epoch 31/50\n",
            "123/123 [==============================] - 260s 2s/step - loss: 0.7258 - accuracy: 0.7815 - val_loss: 1.1521 - val_accuracy: 0.6870\n",
            "Epoch 32/50\n",
            "123/123 [==============================] - 271s 2s/step - loss: 0.7299 - accuracy: 0.7816 - val_loss: 1.1122 - val_accuracy: 0.6860\n",
            "Epoch 33/50\n",
            "123/123 [==============================] - 264s 2s/step - loss: 0.6973 - accuracy: 0.7901 - val_loss: 1.1157 - val_accuracy: 0.6819\n",
            "Epoch 34/50\n",
            "123/123 [==============================] - 270s 2s/step - loss: 0.6855 - accuracy: 0.7961 - val_loss: 1.1430 - val_accuracy: 0.6890\n",
            "Epoch 35/50\n",
            "123/123 [==============================] - 262s 2s/step - loss: 0.6717 - accuracy: 0.7998 - val_loss: 1.1231 - val_accuracy: 0.6839\n",
            "Epoch 36/50\n",
            "123/123 [==============================] - 283s 2s/step - loss: 0.6778 - accuracy: 0.7989 - val_loss: 1.1002 - val_accuracy: 0.6992\n",
            "Epoch 37/50\n",
            "123/123 [==============================] - 261s 2s/step - loss: 0.6826 - accuracy: 0.7933 - val_loss: 1.1124 - val_accuracy: 0.6860\n",
            "Epoch 38/50\n",
            "123/123 [==============================] - 253s 2s/step - loss: 0.6531 - accuracy: 0.8026 - val_loss: 1.1013 - val_accuracy: 0.6956\n",
            "Epoch 39/50\n",
            "123/123 [==============================] - 263s 2s/step - loss: 0.6572 - accuracy: 0.7984 - val_loss: 1.1026 - val_accuracy: 0.6748\n",
            "Epoch 40/50\n",
            "123/123 [==============================] - 259s 2s/step - loss: 0.6359 - accuracy: 0.8044 - val_loss: 1.1199 - val_accuracy: 0.6865\n",
            "Epoch 41/50\n",
            "123/123 [==============================] - 273s 2s/step - loss: 0.6481 - accuracy: 0.7998 - val_loss: 1.0686 - val_accuracy: 0.6977\n",
            "Epoch 42/50\n",
            "123/123 [==============================] - 259s 2s/step - loss: 0.6248 - accuracy: 0.8103 - val_loss: 1.0922 - val_accuracy: 0.6931\n",
            "Epoch 43/50\n",
            "123/123 [==============================] - 264s 2s/step - loss: 0.6206 - accuracy: 0.8149 - val_loss: 1.0804 - val_accuracy: 0.6931\n",
            "Epoch 44/50\n",
            "123/123 [==============================] - 258s 2s/step - loss: 0.6160 - accuracy: 0.8093 - val_loss: 1.0597 - val_accuracy: 0.6987\n",
            "Epoch 45/50\n",
            "123/123 [==============================] - 256s 2s/step - loss: 0.6096 - accuracy: 0.8173 - val_loss: 1.0819 - val_accuracy: 0.6946\n",
            "Epoch 46/50\n",
            "123/123 [==============================] - 261s 2s/step - loss: 0.6069 - accuracy: 0.8105 - val_loss: 1.0672 - val_accuracy: 0.6997\n",
            "Epoch 47/50\n",
            "123/123 [==============================] - 264s 2s/step - loss: 0.5990 - accuracy: 0.8164 - val_loss: 1.0627 - val_accuracy: 0.7093\n",
            "Epoch 48/50\n",
            "123/123 [==============================] - 258s 2s/step - loss: 0.5845 - accuracy: 0.8206 - val_loss: 1.0769 - val_accuracy: 0.7012\n",
            "Epoch 49/50\n",
            "123/123 [==============================] - 265s 2s/step - loss: 0.5867 - accuracy: 0.8202 - val_loss: 1.0954 - val_accuracy: 0.7038\n",
            "Epoch 50/50\n",
            "123/123 [==============================] - 254s 2s/step - loss: 0.5916 - accuracy: 0.8239 - val_loss: 1.0617 - val_accuracy: 0.6992\n"
          ]
        }
      ]
    },
    {
      "cell_type": "code",
      "source": [
        "train_loss, train_acc = cnn.evaluate_generator(train, steps= 16)\n",
        "val_loss, val_acc = cnn.evaluate_generator(test, steps= 16)\n",
        "print('Train accuracy : %.3f, Test accuracy : %.3f' % (train_acc,val_acc))"
      ],
      "metadata": {
        "id": "JtTpVhtxjXcq",
        "colab": {
          "base_uri": "https://localhost:8080/"
        },
        "outputId": "4d92969b-ee68-4435-99f9-a9f65c217341"
      },
      "execution_count": 84,
      "outputs": [
        {
          "output_type": "stream",
          "name": "stderr",
          "text": [
            "<ipython-input-84-fce72b911000>:1: UserWarning: `Model.evaluate_generator` is deprecated and will be removed in a future version. Please use `Model.evaluate`, which supports generators.\n",
            "  train_loss, train_acc = cnn.evaluate_generator(train, steps= 16)\n",
            "<ipython-input-84-fce72b911000>:2: UserWarning: `Model.evaluate_generator` is deprecated and will be removed in a future version. Please use `Model.evaluate`, which supports generators.\n",
            "  val_loss, val_acc = cnn.evaluate_generator(test, steps= 16)\n"
          ]
        },
        {
          "output_type": "stream",
          "name": "stdout",
          "text": [
            "Train accuracy : 0.824, Test accuracy : 0.713\n"
          ]
        }
      ]
    },
    {
      "cell_type": "code",
      "source": [
        "cnn.save_weights('/content/gdrive/MyDrive/Colab Notebooks/CNN.h5')"
      ],
      "metadata": {
        "id": "gR105MtPlsmT"
      },
      "execution_count": 85,
      "outputs": []
    },
    {
      "cell_type": "code",
      "source": [
        "import matplotlib.pyplot as plt\n",
        "\n",
        "#plot the loss\n",
        "plt.plot(r.history['loss'], label = 'train loss')\n",
        "plt.plot(r.history['val_loss'], label = 'val loss')\n",
        "plt.legend()\n",
        "plt.show()\n",
        "#plt.savefig('LossVal_loss')"
      ],
      "metadata": {
        "id": "u68dhoRJl9Y4",
        "colab": {
          "base_uri": "https://localhost:8080/",
          "height": 430
        },
        "outputId": "d5b0ff78-1feb-42bb-b265-90753e546e0c"
      },
      "execution_count": 86,
      "outputs": [
        {
          "output_type": "display_data",
          "data": {
            "text/plain": [
              "<Figure size 640x480 with 1 Axes>"
            ],
            "image/png": "[encoded data removed]"
          },
          "metadata": {}
        }
      ]
    },
    {
      "cell_type": "code",
      "source": [
        "#plot the accuracy\n",
        "plt.plot(r.history['accuracy'], label = 'train acc')\n",
        "plt.plot(r.history['val_accuracy'], label = 'val acc')\n",
        "plt.legend()\n",
        "plt.show()\n",
        "#plt.savefig('Actual_acc')"
      ],
      "metadata": {
        "id": "btesOJAk7FOc",
        "colab": {
          "base_uri": "https://localhost:8080/",
          "height": 430
        },
        "outputId": "118aafdf-4631-4bd8-8185-574d24fd18c6"
      },
      "execution_count": 87,
      "outputs": [
        {
          "output_type": "display_data",
          "data": {
            "text/plain": [
              "<Figure size 640x480 with 1 Axes>"
            ],
            "image/png": "[encoded data removed]"
          },
          "metadata": {}
        }
      ]
    },
    {
      "cell_type": "code",
      "source": [],
      "metadata": {
        "id": "UAJKTUVogWE4"
      },
      "execution_count": null,
      "outputs": []
    }
  ]
}